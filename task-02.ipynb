{
 "cells": [
  {
   "cell_type": "markdown",
   "id": "edfbb90e",
   "metadata": {},
   "source": [
    "# Task 02"
   ]
  },
  {
   "cell_type": "code",
   "execution_count": 60,
   "id": "52c92849",
   "metadata": {},
   "outputs": [
    {
     "data": {
      "text/html": [
       "<div>\n",
       "<style scoped>\n",
       "    .dataframe tbody tr th:only-of-type {\n",
       "        vertical-align: middle;\n",
       "    }\n",
       "\n",
       "    .dataframe tbody tr th {\n",
       "        vertical-align: top;\n",
       "    }\n",
       "\n",
       "    .dataframe thead th {\n",
       "        text-align: right;\n",
       "    }\n",
       "</style>\n",
       "<table border=\"1\" class=\"dataframe\">\n",
       "  <thead>\n",
       "    <tr style=\"text-align: right;\">\n",
       "      <th></th>\n",
       "      <th>Age</th>\n",
       "      <th>Gender</th>\n",
       "      <th>Blood Pressure</th>\n",
       "      <th>Cholesterol Level</th>\n",
       "      <th>Exercise Habits</th>\n",
       "      <th>Smoking</th>\n",
       "      <th>Family Heart Disease</th>\n",
       "      <th>Diabetes</th>\n",
       "      <th>BMI</th>\n",
       "      <th>High Blood Pressure</th>\n",
       "      <th>...</th>\n",
       "      <th>High LDL Cholesterol</th>\n",
       "      <th>Alcohol Consumption</th>\n",
       "      <th>Stress Level</th>\n",
       "      <th>Sleep Hours</th>\n",
       "      <th>Sugar Consumption</th>\n",
       "      <th>Triglyceride Level</th>\n",
       "      <th>Fasting Blood Sugar</th>\n",
       "      <th>CRP Level</th>\n",
       "      <th>Homocysteine Level</th>\n",
       "      <th>Heart Disease Status</th>\n",
       "    </tr>\n",
       "  </thead>\n",
       "  <tbody>\n",
       "    <tr>\n",
       "      <th>0</th>\n",
       "      <td>56.0</td>\n",
       "      <td>Male</td>\n",
       "      <td>153.0</td>\n",
       "      <td>155.0</td>\n",
       "      <td>High</td>\n",
       "      <td>Yes</td>\n",
       "      <td>Yes</td>\n",
       "      <td>No</td>\n",
       "      <td>24.991591</td>\n",
       "      <td>Yes</td>\n",
       "      <td>...</td>\n",
       "      <td>No</td>\n",
       "      <td>High</td>\n",
       "      <td>Medium</td>\n",
       "      <td>7.633228</td>\n",
       "      <td>Medium</td>\n",
       "      <td>342.0</td>\n",
       "      <td>NaN</td>\n",
       "      <td>12.969246</td>\n",
       "      <td>12.387250</td>\n",
       "      <td>No</td>\n",
       "    </tr>\n",
       "    <tr>\n",
       "      <th>1</th>\n",
       "      <td>69.0</td>\n",
       "      <td>Female</td>\n",
       "      <td>146.0</td>\n",
       "      <td>286.0</td>\n",
       "      <td>High</td>\n",
       "      <td>No</td>\n",
       "      <td>Yes</td>\n",
       "      <td>Yes</td>\n",
       "      <td>25.221799</td>\n",
       "      <td>No</td>\n",
       "      <td>...</td>\n",
       "      <td>No</td>\n",
       "      <td>Medium</td>\n",
       "      <td>High</td>\n",
       "      <td>8.744034</td>\n",
       "      <td>Medium</td>\n",
       "      <td>133.0</td>\n",
       "      <td>157.0</td>\n",
       "      <td>9.355389</td>\n",
       "      <td>19.298875</td>\n",
       "      <td>No</td>\n",
       "    </tr>\n",
       "    <tr>\n",
       "      <th>2</th>\n",
       "      <td>46.0</td>\n",
       "      <td>Male</td>\n",
       "      <td>126.0</td>\n",
       "      <td>216.0</td>\n",
       "      <td>Low</td>\n",
       "      <td>No</td>\n",
       "      <td>No</td>\n",
       "      <td>No</td>\n",
       "      <td>29.855447</td>\n",
       "      <td>No</td>\n",
       "      <td>...</td>\n",
       "      <td>Yes</td>\n",
       "      <td>Low</td>\n",
       "      <td>Low</td>\n",
       "      <td>4.440440</td>\n",
       "      <td>Low</td>\n",
       "      <td>393.0</td>\n",
       "      <td>92.0</td>\n",
       "      <td>12.709873</td>\n",
       "      <td>11.230926</td>\n",
       "      <td>No</td>\n",
       "    </tr>\n",
       "    <tr>\n",
       "      <th>3</th>\n",
       "      <td>32.0</td>\n",
       "      <td>Female</td>\n",
       "      <td>122.0</td>\n",
       "      <td>293.0</td>\n",
       "      <td>High</td>\n",
       "      <td>Yes</td>\n",
       "      <td>Yes</td>\n",
       "      <td>No</td>\n",
       "      <td>24.130477</td>\n",
       "      <td>Yes</td>\n",
       "      <td>...</td>\n",
       "      <td>Yes</td>\n",
       "      <td>Low</td>\n",
       "      <td>High</td>\n",
       "      <td>5.249405</td>\n",
       "      <td>High</td>\n",
       "      <td>293.0</td>\n",
       "      <td>94.0</td>\n",
       "      <td>12.509046</td>\n",
       "      <td>5.961958</td>\n",
       "      <td>No</td>\n",
       "    </tr>\n",
       "    <tr>\n",
       "      <th>4</th>\n",
       "      <td>60.0</td>\n",
       "      <td>Male</td>\n",
       "      <td>166.0</td>\n",
       "      <td>242.0</td>\n",
       "      <td>Low</td>\n",
       "      <td>Yes</td>\n",
       "      <td>Yes</td>\n",
       "      <td>Yes</td>\n",
       "      <td>20.486289</td>\n",
       "      <td>Yes</td>\n",
       "      <td>...</td>\n",
       "      <td>No</td>\n",
       "      <td>Low</td>\n",
       "      <td>High</td>\n",
       "      <td>7.030971</td>\n",
       "      <td>High</td>\n",
       "      <td>263.0</td>\n",
       "      <td>154.0</td>\n",
       "      <td>10.381259</td>\n",
       "      <td>8.153887</td>\n",
       "      <td>No</td>\n",
       "    </tr>\n",
       "    <tr>\n",
       "      <th>5</th>\n",
       "      <td>25.0</td>\n",
       "      <td>Male</td>\n",
       "      <td>152.0</td>\n",
       "      <td>257.0</td>\n",
       "      <td>Low</td>\n",
       "      <td>Yes</td>\n",
       "      <td>No</td>\n",
       "      <td>No</td>\n",
       "      <td>28.144681</td>\n",
       "      <td>No</td>\n",
       "      <td>...</td>\n",
       "      <td>No</td>\n",
       "      <td>Low</td>\n",
       "      <td>Medium</td>\n",
       "      <td>5.504876</td>\n",
       "      <td>Low</td>\n",
       "      <td>126.0</td>\n",
       "      <td>91.0</td>\n",
       "      <td>4.297575</td>\n",
       "      <td>10.815983</td>\n",
       "      <td>No</td>\n",
       "    </tr>\n",
       "    <tr>\n",
       "      <th>6</th>\n",
       "      <td>78.0</td>\n",
       "      <td>Female</td>\n",
       "      <td>121.0</td>\n",
       "      <td>175.0</td>\n",
       "      <td>High</td>\n",
       "      <td>Yes</td>\n",
       "      <td>Yes</td>\n",
       "      <td>Yes</td>\n",
       "      <td>18.042332</td>\n",
       "      <td>No</td>\n",
       "      <td>...</td>\n",
       "      <td>No</td>\n",
       "      <td>Medium</td>\n",
       "      <td>Medium</td>\n",
       "      <td>9.240911</td>\n",
       "      <td>Medium</td>\n",
       "      <td>107.0</td>\n",
       "      <td>85.0</td>\n",
       "      <td>11.582983</td>\n",
       "      <td>19.659461</td>\n",
       "      <td>No</td>\n",
       "    </tr>\n",
       "    <tr>\n",
       "      <th>7</th>\n",
       "      <td>38.0</td>\n",
       "      <td>Female</td>\n",
       "      <td>161.0</td>\n",
       "      <td>187.0</td>\n",
       "      <td>Low</td>\n",
       "      <td>Yes</td>\n",
       "      <td>Yes</td>\n",
       "      <td>Yes</td>\n",
       "      <td>34.736683</td>\n",
       "      <td>No</td>\n",
       "      <td>...</td>\n",
       "      <td>No</td>\n",
       "      <td>Low</td>\n",
       "      <td>Medium</td>\n",
       "      <td>7.841008</td>\n",
       "      <td>High</td>\n",
       "      <td>228.0</td>\n",
       "      <td>111.0</td>\n",
       "      <td>4.929381</td>\n",
       "      <td>17.146599</td>\n",
       "      <td>No</td>\n",
       "    </tr>\n",
       "    <tr>\n",
       "      <th>8</th>\n",
       "      <td>56.0</td>\n",
       "      <td>Female</td>\n",
       "      <td>135.0</td>\n",
       "      <td>291.0</td>\n",
       "      <td>Low</td>\n",
       "      <td>No</td>\n",
       "      <td>Yes</td>\n",
       "      <td>Yes</td>\n",
       "      <td>34.493112</td>\n",
       "      <td>Yes</td>\n",
       "      <td>...</td>\n",
       "      <td>Yes</td>\n",
       "      <td>High</td>\n",
       "      <td>Low</td>\n",
       "      <td>6.941403</td>\n",
       "      <td>High</td>\n",
       "      <td>317.0</td>\n",
       "      <td>103.0</td>\n",
       "      <td>5.119015</td>\n",
       "      <td>6.051129</td>\n",
       "      <td>No</td>\n",
       "    </tr>\n",
       "    <tr>\n",
       "      <th>9</th>\n",
       "      <td>75.0</td>\n",
       "      <td>Male</td>\n",
       "      <td>144.0</td>\n",
       "      <td>252.0</td>\n",
       "      <td>Low</td>\n",
       "      <td>Yes</td>\n",
       "      <td>Yes</td>\n",
       "      <td>No</td>\n",
       "      <td>30.142149</td>\n",
       "      <td>No</td>\n",
       "      <td>...</td>\n",
       "      <td>Yes</td>\n",
       "      <td>Low</td>\n",
       "      <td>Medium</td>\n",
       "      <td>4.002662</td>\n",
       "      <td>High</td>\n",
       "      <td>199.0</td>\n",
       "      <td>96.0</td>\n",
       "      <td>10.005698</td>\n",
       "      <td>7.604357</td>\n",
       "      <td>No</td>\n",
       "    </tr>\n",
       "  </tbody>\n",
       "</table>\n",
       "<p>10 rows × 21 columns</p>\n",
       "</div>"
      ],
      "text/plain": [
       "    Age  Gender  Blood Pressure  Cholesterol Level Exercise Habits Smoking  \\\n",
       "0  56.0    Male           153.0              155.0            High     Yes   \n",
       "1  69.0  Female           146.0              286.0            High      No   \n",
       "2  46.0    Male           126.0              216.0             Low      No   \n",
       "3  32.0  Female           122.0              293.0            High     Yes   \n",
       "4  60.0    Male           166.0              242.0             Low     Yes   \n",
       "5  25.0    Male           152.0              257.0             Low     Yes   \n",
       "6  78.0  Female           121.0              175.0            High     Yes   \n",
       "7  38.0  Female           161.0              187.0             Low     Yes   \n",
       "8  56.0  Female           135.0              291.0             Low      No   \n",
       "9  75.0    Male           144.0              252.0             Low     Yes   \n",
       "\n",
       "  Family Heart Disease Diabetes        BMI High Blood Pressure  ...  \\\n",
       "0                  Yes       No  24.991591                 Yes  ...   \n",
       "1                  Yes      Yes  25.221799                  No  ...   \n",
       "2                   No       No  29.855447                  No  ...   \n",
       "3                  Yes       No  24.130477                 Yes  ...   \n",
       "4                  Yes      Yes  20.486289                 Yes  ...   \n",
       "5                   No       No  28.144681                  No  ...   \n",
       "6                  Yes      Yes  18.042332                  No  ...   \n",
       "7                  Yes      Yes  34.736683                  No  ...   \n",
       "8                  Yes      Yes  34.493112                 Yes  ...   \n",
       "9                  Yes       No  30.142149                  No  ...   \n",
       "\n",
       "  High LDL Cholesterol Alcohol Consumption Stress Level Sleep Hours  \\\n",
       "0                   No                High       Medium    7.633228   \n",
       "1                   No              Medium         High    8.744034   \n",
       "2                  Yes                 Low          Low    4.440440   \n",
       "3                  Yes                 Low         High    5.249405   \n",
       "4                   No                 Low         High    7.030971   \n",
       "5                   No                 Low       Medium    5.504876   \n",
       "6                   No              Medium       Medium    9.240911   \n",
       "7                   No                 Low       Medium    7.841008   \n",
       "8                  Yes                High          Low    6.941403   \n",
       "9                  Yes                 Low       Medium    4.002662   \n",
       "\n",
       "   Sugar Consumption Triglyceride Level  Fasting Blood Sugar  CRP Level  \\\n",
       "0             Medium              342.0                  NaN  12.969246   \n",
       "1             Medium              133.0                157.0   9.355389   \n",
       "2                Low              393.0                 92.0  12.709873   \n",
       "3               High              293.0                 94.0  12.509046   \n",
       "4               High              263.0                154.0  10.381259   \n",
       "5                Low              126.0                 91.0   4.297575   \n",
       "6             Medium              107.0                 85.0  11.582983   \n",
       "7               High              228.0                111.0   4.929381   \n",
       "8               High              317.0                103.0   5.119015   \n",
       "9               High              199.0                 96.0  10.005698   \n",
       "\n",
       "   Homocysteine Level  Heart Disease Status  \n",
       "0           12.387250                    No  \n",
       "1           19.298875                    No  \n",
       "2           11.230926                    No  \n",
       "3            5.961958                    No  \n",
       "4            8.153887                    No  \n",
       "5           10.815983                    No  \n",
       "6           19.659461                    No  \n",
       "7           17.146599                    No  \n",
       "8            6.051129                    No  \n",
       "9            7.604357                    No  \n",
       "\n",
       "[10 rows x 21 columns]"
      ]
     },
     "execution_count": 60,
     "metadata": {},
     "output_type": "execute_result"
    }
   ],
   "source": [
    "import numpy as np\n",
    "import pandas as pd\n",
    "import matplotlib.pyplot as plt\n",
    "\n",
    "df = pd.read_csv(\"./datasets/heart_disease.csv\")\n",
    "df.head(10)"
   ]
  },
  {
   "cell_type": "code",
   "execution_count": 61,
   "id": "b3db83a4",
   "metadata": {},
   "outputs": [
    {
     "name": "stdout",
     "output_type": "stream",
     "text": [
      "<class 'pandas.core.frame.DataFrame'>\n",
      "RangeIndex: 10000 entries, 0 to 9999\n",
      "Data columns (total 21 columns):\n",
      " #   Column                Non-Null Count  Dtype  \n",
      "---  ------                --------------  -----  \n",
      " 0   Age                   9971 non-null   float64\n",
      " 1   Gender                9981 non-null   object \n",
      " 2   Blood Pressure        9981 non-null   float64\n",
      " 3   Cholesterol Level     9970 non-null   float64\n",
      " 4   Exercise Habits       9975 non-null   object \n",
      " 5   Smoking               9975 non-null   object \n",
      " 6   Family Heart Disease  9979 non-null   object \n",
      " 7   Diabetes              9970 non-null   object \n",
      " 8   BMI                   9978 non-null   float64\n",
      " 9   High Blood Pressure   9974 non-null   object \n",
      " 10  Low HDL Cholesterol   9975 non-null   object \n",
      " 11  High LDL Cholesterol  9974 non-null   object \n",
      " 12  Alcohol Consumption   7414 non-null   object \n",
      " 13  Stress Level          9978 non-null   object \n",
      " 14  Sleep Hours           9975 non-null   float64\n",
      " 15  Sugar Consumption     9970 non-null   object \n",
      " 16  Triglyceride Level    9974 non-null   float64\n",
      " 17  Fasting Blood Sugar   9978 non-null   float64\n",
      " 18  CRP Level             9974 non-null   float64\n",
      " 19  Homocysteine Level    9980 non-null   float64\n",
      " 20  Heart Disease Status  10000 non-null  object \n",
      "dtypes: float64(9), object(12)\n",
      "memory usage: 1.6+ MB\n"
     ]
    }
   ],
   "source": [
    "df.info()"
   ]
  },
  {
   "cell_type": "code",
   "execution_count": 62,
   "id": "456e5f2f",
   "metadata": {},
   "outputs": [
    {
     "data": {
      "text/plain": [
       "Gender\n",
       "Male      5003\n",
       "Female    4978\n",
       "Name: count, dtype: int64"
      ]
     },
     "execution_count": 62,
     "metadata": {},
     "output_type": "execute_result"
    }
   ],
   "source": [
    "df[\"Gender\"].value_counts()"
   ]
  },
  {
   "cell_type": "code",
   "execution_count": 63,
   "id": "e9ee6250",
   "metadata": {},
   "outputs": [
    {
     "data": {
      "text/plain": [
       "Exercise Habits\n",
       "High      3372\n",
       "Medium    3332\n",
       "Low       3271\n",
       "Name: count, dtype: int64"
      ]
     },
     "execution_count": 63,
     "metadata": {},
     "output_type": "execute_result"
    }
   ],
   "source": [
    "df[\"Exercise Habits\"].value_counts()"
   ]
  },
  {
   "cell_type": "code",
   "execution_count": 64,
   "id": "943cd091",
   "metadata": {},
   "outputs": [
    {
     "data": {
      "text/plain": [
       "Smoking\n",
       "Yes    5123\n",
       "No     4852\n",
       "Name: count, dtype: int64"
      ]
     },
     "execution_count": 64,
     "metadata": {},
     "output_type": "execute_result"
    }
   ],
   "source": [
    "df['Smoking'].value_counts()"
   ]
  },
  {
   "cell_type": "code",
   "execution_count": 65,
   "id": "1b168669",
   "metadata": {},
   "outputs": [
    {
     "data": {
      "text/plain": [
       "Family Heart Disease\n",
       "No     5004\n",
       "Yes    4975\n",
       "Name: count, dtype: int64"
      ]
     },
     "execution_count": 65,
     "metadata": {},
     "output_type": "execute_result"
    }
   ],
   "source": [
    "df[\"Family Heart Disease\"].value_counts()"
   ]
  },
  {
   "cell_type": "code",
   "execution_count": 66,
   "id": "f9840bc2",
   "metadata": {},
   "outputs": [
    {
     "data": {
      "text/plain": [
       "Diabetes\n",
       "No     5018\n",
       "Yes    4952\n",
       "Name: count, dtype: int64"
      ]
     },
     "execution_count": 66,
     "metadata": {},
     "output_type": "execute_result"
    }
   ],
   "source": [
    "df[\"Diabetes\"].value_counts()"
   ]
  },
  {
   "cell_type": "code",
   "execution_count": 67,
   "id": "9fd760d2",
   "metadata": {},
   "outputs": [
    {
     "data": {
      "text/plain": [
       "High Blood Pressure\n",
       "Yes    5022\n",
       "No     4952\n",
       "Name: count, dtype: int64"
      ]
     },
     "execution_count": 67,
     "metadata": {},
     "output_type": "execute_result"
    }
   ],
   "source": [
    "df[\"High Blood Pressure\"].value_counts()"
   ]
  },
  {
   "cell_type": "code",
   "execution_count": 68,
   "id": "f2c2fef4",
   "metadata": {},
   "outputs": [
    {
     "data": {
      "text/plain": [
       "Low HDL Cholesterol\n",
       "Yes    5000\n",
       "No     4975\n",
       "Name: count, dtype: int64"
      ]
     },
     "execution_count": 68,
     "metadata": {},
     "output_type": "execute_result"
    }
   ],
   "source": [
    "df[\"Low HDL Cholesterol\"].value_counts()"
   ]
  },
  {
   "cell_type": "code",
   "execution_count": 69,
   "id": "8b6898d1",
   "metadata": {},
   "outputs": [
    {
     "data": {
      "text/plain": [
       "Alcohol Consumption\n",
       "Medium    2500\n",
       "Low       2488\n",
       "High      2426\n",
       "Name: count, dtype: int64"
      ]
     },
     "execution_count": 69,
     "metadata": {},
     "output_type": "execute_result"
    }
   ],
   "source": [
    "df[\"Alcohol Consumption\"].value_counts()"
   ]
  },
  {
   "cell_type": "code",
   "execution_count": 70,
   "id": "35c72909",
   "metadata": {},
   "outputs": [
    {
     "data": {
      "text/plain": [
       "Sugar Consumption\n",
       "Low       3390\n",
       "High      3330\n",
       "Medium    3250\n",
       "Name: count, dtype: int64"
      ]
     },
     "execution_count": 70,
     "metadata": {},
     "output_type": "execute_result"
    }
   ],
   "source": [
    "df[\"Sugar Consumption\"].value_counts()"
   ]
  },
  {
   "cell_type": "code",
   "execution_count": 71,
   "id": "766e3e8e",
   "metadata": {},
   "outputs": [
    {
     "data": {
      "text/plain": [
       "Heart Disease Status\n",
       "No     8000\n",
       "Yes    2000\n",
       "Name: count, dtype: int64"
      ]
     },
     "execution_count": 71,
     "metadata": {},
     "output_type": "execute_result"
    }
   ],
   "source": [
    "df['Heart Disease Status'].value_counts()"
   ]
  },
  {
   "cell_type": "markdown",
   "id": "a2aaa756",
   "metadata": {},
   "source": [
    "## Step 1: Understanding the Data\n",
    "\n",
    "Classified features\n",
    "\n",
    "- Gender : Male / Female\n",
    "- Exercise Habits : Low / Medium / High\n",
    "- Alcohol Consumption : Low / Medium / High\n",
    "- Sugar Consumption : Low / Medium / High\n",
    "- Smoking : Yes / No\n",
    "- Family Heart Disease : Yes / No\n",
    "- Diabetes : Yes / No\n",
    "- High Blood Pressure : Yes / No\n",
    "- Low HDL Cholesterol : Yes / No\n",
    "- High LDL Cholesterol : Yes / No\n",
    "- Heart Disease Status : Yes / No\n",
    "\n",
    "Numeric features\n",
    "\n",
    "- Age\n",
    "- Blood Pressure\n",
    "- Cholesterol Level = LDL + HDL + 20% of Triglycerides\n",
    "- BMI = weight (kg) / height² (m²)\n",
    "- Triglycleride Level : Type of fat in blood; stores unused calorie\n",
    "- Sleep Hours\n",
    "- Fasting Blood Sugar : Blood glucose level after 8–12 hours fasting.\n",
    "- CRP Level : (C-Reactive Protein) Indicates inflammation in the body\n",
    "- Homocysteine Level : An amino acid"
   ]
  },
  {
   "cell_type": "markdown",
   "id": "f2777f24",
   "metadata": {},
   "source": [
    "## Step 2: Removing the incomplete / missing records. "
   ]
  },
  {
   "cell_type": "code",
   "execution_count": 72,
   "id": "f73b174f",
   "metadata": {},
   "outputs": [
    {
     "data": {
      "text/plain": [
       "7067"
      ]
     },
     "execution_count": 72,
     "metadata": {},
     "output_type": "execute_result"
    }
   ],
   "source": [
    "df.dropna(inplace=True)\n",
    "df.shape[0]"
   ]
  },
  {
   "cell_type": "markdown",
   "id": "f68932a2",
   "metadata": {},
   "source": [
    "## Step 3: I am choosing the \"Heart Diesease Status\" as my target array. It has two classes Yes / No. So it is a classification problem."
   ]
  },
  {
   "cell_type": "code",
   "execution_count": 73,
   "id": "fa3e8cd8",
   "metadata": {},
   "outputs": [
    {
     "data": {
      "text/plain": [
       "7067"
      ]
     },
     "execution_count": 73,
     "metadata": {},
     "output_type": "execute_result"
    }
   ],
   "source": [
    "# Redundant column : \"Blood Pressure\" as its qualitative measure High Blood Pressure also given.\n",
    "df.drop(columns=\"Blood Pressure\", inplace=True)\n",
    "REC_COUNT = df.shape[0] # column coun should be 20 now (including index)\n",
    "df.set_index(pd.RangeIndex(0, REC_COUNT, 1), inplace=True)\n",
    "REC_COUNT"
   ]
  },
  {
   "cell_type": "markdown",
   "id": "7784ed30",
   "metadata": {},
   "source": [
    "## Step 3: I want to compare status of heart disease based on classified features having two classes only Yes / No"
   ]
  },
  {
   "cell_type": "code",
   "execution_count": 74,
   "id": "d6081172",
   "metadata": {},
   "outputs": [
    {
     "data": {
      "text/plain": [
       "(0.0, 7067.0)"
      ]
     },
     "execution_count": 74,
     "metadata": {},
     "output_type": "execute_result"
    },
    {
     "data": {
      "image/png": "[encoded data removed]",
      "text/plain": [
       "<Figure size 1000x500 with 1 Axes>"
      ]
     },
     "metadata": {},
     "output_type": "display_data"
    }
   ],
   "source": [
    "features = [\"Smoking\", \"Family Heart Disease\", \"Diabetes\", \"High Blood Pressure\", \"Low HDL Cholesterol\", \"High LDL Cholesterol\"]\n",
    "\n",
    "positiveStatus, negativeStatus = {}, {}\n",
    "\n",
    "for feature in features:\n",
    "  positiveStatus[feature], negativeStatus[feature] = {}, {}\n",
    "  # Number of positive status patient in which current feature / habit present\n",
    "  positiveStatus[feature]['present'] = df.loc[(df[feature] == \"Yes\") & (df[\"Heart Disease Status\"] == \"Yes\")].shape[0]\n",
    "  # Number of positive status patient in which current feature / habit absent\n",
    "  positiveStatus[feature]['absent'] = df.loc[(df[feature] == \"No\") & (df[\"Heart Disease Status\"] == \"Yes\")].shape[0]\n",
    "  # Number of negative status patient in which current feature / habit present\n",
    "  negativeStatus[feature]['present'] = df.loc[(df[feature] == \"Yes\") & (df[\"Heart Disease Status\"] == \"No\")].shape[0]\n",
    "  # Number of negative status patient in which current feature / habit absent\n",
    "  negativeStatus[feature]['absent'] = df.loc[(df[feature] == \"No\") & (df[\"Heart Disease Status\"] == \"No\")].shape[0]\n",
    "\n",
    "\n",
    "width = 0.4\n",
    "\n",
    "fig, axs = plt.subplots(figsize=(10, 5))\n",
    "negativeFeaturesAbsent = [negativeStatus[feature]['absent'] for feature in features]\n",
    "positiveFeaturesAbsent = [positiveStatus[feature]['absent'] for feature in features]\n",
    "negativeFeaturesPresent = [negativeStatus[feature]['present'] for feature in features]\n",
    "positiveFeaturesPresent = [positiveStatus[feature]['present'] for feature in features]\n",
    "axs.bar([x for x in range(len(features))], negativeFeaturesAbsent, width, label=\"feature absent, negative\")\n",
    "axs.bar([x for x in range(len(features))], positiveFeaturesAbsent, width, bottom=negativeFeaturesAbsent, label=\"feature absent, positive\")\n",
    "axs.bar([x + width for x in range(len(features))], negativeFeaturesPresent, width, label=\"feature present, negative\")\n",
    "axs.bar([x + width for x in range(len(features))], positiveFeaturesPresent, width, bottom=negativeFeaturesPresent, label=\"feature positve, positive\")\n",
    "axs.set_xticks([(x + width / 2) for x in range(len(features))], labels=features, rotation=45)\n",
    "axs.legend(title=\"Heart disease status\")\n",
    "axs.set_ylim(0, REC_COUNT)"
   ]
  },
  {
   "cell_type": "code",
   "execution_count": 75,
   "id": "d28df0d8",
   "metadata": {},
   "outputs": [
    {
     "data": {
      "text/plain": [
       "Text(0.5, 1.0, 'Focusing only on persons having Heart Diseases')"
      ]
     },
     "execution_count": 75,
     "metadata": {},
     "output_type": "execute_result"
    },
    {
     "data": {
      "image/png": "[encoded data removed]",
      "text/plain": [
       "<Figure size 1000x500 with 1 Axes>"
      ]
     },
     "metadata": {},
     "output_type": "display_data"
    }
   ],
   "source": [
    "fig, axs = plt.subplots(figsize=(10, 5))\n",
    "positiveFeaturesAbsent = [positiveStatus[feature]['absent'] for feature in features]\n",
    "positiveFeaturesPresent = [positiveStatus[feature]['present'] for feature in features]\n",
    "axs.bar([x for x in range(len(features))], positiveFeaturesAbsent, width, label=\"feature absent, positive\", color=\"orange\")\n",
    "axs.bar([x + width for x in range(len(features))], positiveFeaturesPresent, width, label=\"feature positve, positive\", color=\"red\")\n",
    "axs.set_xticks([(x + width / 2) for x in range(len(features))], labels=features, rotation=45)\n",
    "axs.legend(title=\"Heart disease status\")\n",
    "axs.set_ylim(0, REC_COUNT / 7.5)\n",
    "axs.set_title(\"Focusing only on persons having Heart Diseases\")"
   ]
  },
  {
   "cell_type": "markdown",
   "id": "cc088648",
   "metadata": {},
   "source": [
    "By observing above graph, it can be inferred that Smoking increases the chances of having heart related diseases. Possible reason might be that smoking damages the lungs, in turn reduces the breathing capacity, in turn the lacks the amount of pressure required to pump the blood through heart. "
   ]
  },
  {
   "cell_type": "markdown",
   "id": "fccc8108",
   "metadata": {},
   "source": [
    "## Step 4: I want to a visual comparison of number of positive and negative cases bases on features athat are classsifid into three classes."
   ]
  },
  {
   "cell_type": "code",
   "execution_count": 76,
   "id": "25c35e02",
   "metadata": {},
   "outputs": [
    {
     "data": {
      "text/plain": [
       "(0.0, 4711.333333333333)"
      ]
     },
     "execution_count": 76,
     "metadata": {},
     "output_type": "execute_result"
    },
    {
     "data": {
      "image/png": "[encoded data removed]",
      "text/plain": [
       "<Figure size 1000x500 with 1 Axes>"
      ]
     },
     "metadata": {},
     "output_type": "display_data"
    }
   ],
   "source": [
    "features = [\"Exercise Habits\", \"Sugar Consumption\", \"Alcohol Consumption\"]\n",
    "\n",
    "positiveStatus, negativeStatus = {}, {}\n",
    "\n",
    "for feature in features:\n",
    "  positiveStatus[feature], negativeStatus[feature] = {}, {}\n",
    "  positiveStatus[feature]['Low'] = df.loc[(df[feature] == \"Low\") & (df[\"Heart Disease Status\"] == \"Yes\")].shape[0]\n",
    "  positiveStatus[feature]['Medium'] = df.loc[(df[feature] == \"Medium\") & (df[\"Heart Disease Status\"] == \"Yes\")].shape[0]\n",
    "  positiveStatus[feature]['High'] = df.loc[(df[feature] == \"High\") & (df[\"Heart Disease Status\"] == \"Yes\")].shape[0]\n",
    "  negativeStatus[feature]['Low'] = df.loc[(df[feature] == \"Low\") & (df[\"Heart Disease Status\"] == \"No\")].shape[0]\n",
    "  negativeStatus[feature]['Medium'] = df.loc[(df[feature] == \"Medium\") & (df[\"Heart Disease Status\"] == \"No\")].shape[0]\n",
    "  negativeStatus[feature]['High'] = df.loc[(df[feature] == \"High\") & (df[\"Heart Disease Status\"] == \"No\")].shape[0]\n",
    "\n",
    "width = 0.25\n",
    "\n",
    "fig, axs = plt.subplots(figsize=(10, 5))\n",
    "negativeFeaturesLow = [negativeStatus[feature][\"Low\"] for feature in features]\n",
    "negativeFeaturesMedium = [negativeStatus[feature][\"Medium\"] for feature in features]\n",
    "negativeFeaturesHigh = [negativeStatus[feature][\"High\"] for feature in features]\n",
    "positiveFeaturesLow = [positiveStatus[feature][\"Low\"] for feature in features]\n",
    "positiveFeaturesMedium = [positiveStatus[feature][\"Medium\"] for feature in features]\n",
    "positiveFeaturesHigh = [positiveStatus[feature][\"High\"] for feature in features]\n",
    "axs.bar([i for i in range(len(features))], negativeFeaturesLow, width, label=\"Low, Negative\")\n",
    "axs.bar([i for i in range(len(features))], positiveFeaturesLow, width, bottom=negativeFeaturesLow, label=\"Low, Positive\")\n",
    "axs.bar([i + width for i in range(len(features))], negativeFeaturesMedium, width, label=\"Medium, Negative\")\n",
    "axs.bar([i + width for i in range(len(features))], positiveFeaturesMedium, width, bottom=negativeFeaturesMedium, label=\"Medium, Positive\")\n",
    "axs.bar([i + 2 * width for i in range(len(features))], negativeFeaturesHigh, width, label=\"High, Negative\")\n",
    "axs.bar([i + 2 * width for i in range(len(features))], positiveFeaturesHigh, width, bottom=negativeFeaturesHigh, label=\"High, Positive\")\n",
    "axs.legend(title=\"Intensity amount, Heart disease status\")\n",
    "axs.set_xticks([i + width for i in range(len(features))], labels=features)\n",
    "axs.set_ylim(0, REC_COUNT / 1.5)"
   ]
  },
  {
   "cell_type": "code",
   "execution_count": 77,
   "id": "4d7b74bc",
   "metadata": {},
   "outputs": [
    {
     "data": {
      "text/plain": [
       "Text(0.5, 1.0, 'Focusing only on paersons having heart diseases')"
      ]
     },
     "execution_count": 77,
     "metadata": {},
     "output_type": "execute_result"
    },
    {
     "data": {
      "image/png": "[encoded data removed]",
      "text/plain": [
       "<Figure size 1000x500 with 1 Axes>"
      ]
     },
     "metadata": {},
     "output_type": "display_data"
    }
   ],
   "source": [
    "fig, axs = plt.subplots(figsize=(10, 5))\n",
    "positiveFeaturesLow = [positiveStatus[feature][\"Low\"] for feature in features]\n",
    "positiveFeaturesMedium = [positiveStatus[feature][\"Medium\"] for feature in features]\n",
    "positiveFeaturesHigh = [positiveStatus[feature][\"High\"] for feature in features]\n",
    "axs.bar([i for i in range(len(features))], positiveFeaturesLow, width, label=\"Low, Positive\", color=\"orange\")\n",
    "axs.bar([i + width for i in range(len(features))], positiveFeaturesMedium, width, label=\"Medium, Positive\", color=\"red\")\n",
    "axs.bar([i + 2 * width for i in range(len(features))], positiveFeaturesHigh, width, label=\"High, Positive\", color=\"brown\")\n",
    "axs.legend(title=\"Intensity amount, Heart disease status\")\n",
    "axs.set_xticks([i + width for i in range(len(features))], labels=features)\n",
    "axs.set_ylim(0, REC_COUNT / 10)\n",
    "axs.set_title(\"Focusing only on paersons having heart diseases\")"
   ]
  },
  {
   "cell_type": "markdown",
   "id": "c6214367",
   "metadata": {},
   "source": [
    "Sugar consumption increases the chances of having heart diseases"
   ]
  }
 ],
 "metadata": {
  "kernelspec": {
   "display_name": "env",
   "language": "python",
   "name": "python3"
  },
  "language_info": {
   "codemirror_mode": {
    "name": "ipython",
    "version": 3
   },
   "file_extension": ".py",
   "mimetype": "text/x-python",
   "name": "python",
   "nbconvert_exporter": "python",
   "pygments_lexer": "ipython3",
   "version": "3.13.3"
  }
 },
 "nbformat": 4,
 "nbformat_minor": 5
}
