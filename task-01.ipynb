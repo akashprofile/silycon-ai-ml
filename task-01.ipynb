{
 "cells": [
  {
   "cell_type": "markdown",
   "id": "6c15a9ff",
   "metadata": {},
   "source": [
    "# Task 01"
   ]
  },
  {
   "cell_type": "code",
   "execution_count": 1,
   "id": "78b8cb51",
   "metadata": {},
   "outputs": [],
   "source": [
    "import pandas as pd"
   ]
  },
  {
   "cell_type": "markdown",
   "id": "b500cc68",
   "metadata": {},
   "source": [
    "## Step 1: Load data using Pandas"
   ]
  },
  {
   "cell_type": "code",
   "execution_count": 2,
   "id": "e30bf56a",
   "metadata": {},
   "outputs": [
    {
     "name": "stdout",
     "output_type": "stream",
     "text": [
      "<class 'pandas.core.frame.DataFrame'>\n"
     ]
    },
    {
     "data": {
      "text/html": [
       "<div>\n",
       "<style scoped>\n",
       "    .dataframe tbody tr th:only-of-type {\n",
       "        vertical-align: middle;\n",
       "    }\n",
       "\n",
       "    .dataframe tbody tr th {\n",
       "        vertical-align: top;\n",
       "    }\n",
       "\n",
       "    .dataframe thead th {\n",
       "        text-align: right;\n",
       "    }\n",
       "</style>\n",
       "<table border=\"1\" class=\"dataframe\">\n",
       "  <thead>\n",
       "    <tr style=\"text-align: right;\">\n",
       "      <th></th>\n",
       "      <th>student_id</th>\n",
       "      <th>age</th>\n",
       "      <th>gender</th>\n",
       "      <th>study_hours_per_day</th>\n",
       "      <th>social_media_hours</th>\n",
       "      <th>netflix_hours</th>\n",
       "      <th>part_time_job</th>\n",
       "      <th>attendance_percentage</th>\n",
       "      <th>sleep_hours</th>\n",
       "      <th>diet_quality</th>\n",
       "      <th>exercise_frequency</th>\n",
       "      <th>parental_education_level</th>\n",
       "      <th>internet_quality</th>\n",
       "      <th>mental_health_rating</th>\n",
       "      <th>extracurricular_participation</th>\n",
       "      <th>exam_score</th>\n",
       "    </tr>\n",
       "  </thead>\n",
       "  <tbody>\n",
       "    <tr>\n",
       "      <th>0</th>\n",
       "      <td>S1000</td>\n",
       "      <td>23</td>\n",
       "      <td>Female</td>\n",
       "      <td>0.0</td>\n",
       "      <td>1.2</td>\n",
       "      <td>1.1</td>\n",
       "      <td>No</td>\n",
       "      <td>85.0</td>\n",
       "      <td>8.0</td>\n",
       "      <td>Fair</td>\n",
       "      <td>6</td>\n",
       "      <td>Master</td>\n",
       "      <td>Average</td>\n",
       "      <td>8</td>\n",
       "      <td>Yes</td>\n",
       "      <td>56.2</td>\n",
       "    </tr>\n",
       "    <tr>\n",
       "      <th>1</th>\n",
       "      <td>S1001</td>\n",
       "      <td>20</td>\n",
       "      <td>Female</td>\n",
       "      <td>6.9</td>\n",
       "      <td>2.8</td>\n",
       "      <td>2.3</td>\n",
       "      <td>No</td>\n",
       "      <td>97.3</td>\n",
       "      <td>4.6</td>\n",
       "      <td>Good</td>\n",
       "      <td>6</td>\n",
       "      <td>High School</td>\n",
       "      <td>Average</td>\n",
       "      <td>8</td>\n",
       "      <td>No</td>\n",
       "      <td>100.0</td>\n",
       "    </tr>\n",
       "    <tr>\n",
       "      <th>2</th>\n",
       "      <td>S1002</td>\n",
       "      <td>21</td>\n",
       "      <td>Male</td>\n",
       "      <td>1.4</td>\n",
       "      <td>3.1</td>\n",
       "      <td>1.3</td>\n",
       "      <td>No</td>\n",
       "      <td>94.8</td>\n",
       "      <td>8.0</td>\n",
       "      <td>Poor</td>\n",
       "      <td>1</td>\n",
       "      <td>High School</td>\n",
       "      <td>Poor</td>\n",
       "      <td>1</td>\n",
       "      <td>No</td>\n",
       "      <td>34.3</td>\n",
       "    </tr>\n",
       "    <tr>\n",
       "      <th>3</th>\n",
       "      <td>S1003</td>\n",
       "      <td>23</td>\n",
       "      <td>Female</td>\n",
       "      <td>1.0</td>\n",
       "      <td>3.9</td>\n",
       "      <td>1.0</td>\n",
       "      <td>No</td>\n",
       "      <td>71.0</td>\n",
       "      <td>9.2</td>\n",
       "      <td>Poor</td>\n",
       "      <td>4</td>\n",
       "      <td>Master</td>\n",
       "      <td>Good</td>\n",
       "      <td>1</td>\n",
       "      <td>Yes</td>\n",
       "      <td>26.8</td>\n",
       "    </tr>\n",
       "    <tr>\n",
       "      <th>4</th>\n",
       "      <td>S1004</td>\n",
       "      <td>19</td>\n",
       "      <td>Female</td>\n",
       "      <td>5.0</td>\n",
       "      <td>4.4</td>\n",
       "      <td>0.5</td>\n",
       "      <td>No</td>\n",
       "      <td>90.9</td>\n",
       "      <td>4.9</td>\n",
       "      <td>Fair</td>\n",
       "      <td>3</td>\n",
       "      <td>Master</td>\n",
       "      <td>Good</td>\n",
       "      <td>1</td>\n",
       "      <td>No</td>\n",
       "      <td>66.4</td>\n",
       "    </tr>\n",
       "  </tbody>\n",
       "</table>\n",
       "</div>"
      ],
      "text/plain": [
       "  student_id  age  gender  study_hours_per_day  social_media_hours  \\\n",
       "0      S1000   23  Female                  0.0                 1.2   \n",
       "1      S1001   20  Female                  6.9                 2.8   \n",
       "2      S1002   21    Male                  1.4                 3.1   \n",
       "3      S1003   23  Female                  1.0                 3.9   \n",
       "4      S1004   19  Female                  5.0                 4.4   \n",
       "\n",
       "   netflix_hours part_time_job  attendance_percentage  sleep_hours  \\\n",
       "0            1.1            No                   85.0          8.0   \n",
       "1            2.3            No                   97.3          4.6   \n",
       "2            1.3            No                   94.8          8.0   \n",
       "3            1.0            No                   71.0          9.2   \n",
       "4            0.5            No                   90.9          4.9   \n",
       "\n",
       "  diet_quality  exercise_frequency parental_education_level internet_quality  \\\n",
       "0         Fair                   6                   Master          Average   \n",
       "1         Good                   6              High School          Average   \n",
       "2         Poor                   1              High School             Poor   \n",
       "3         Poor                   4                   Master             Good   \n",
       "4         Fair                   3                   Master             Good   \n",
       "\n",
       "   mental_health_rating extracurricular_participation  exam_score  \n",
       "0                     8                           Yes        56.2  \n",
       "1                     8                            No       100.0  \n",
       "2                     1                            No        34.3  \n",
       "3                     1                           Yes        26.8  \n",
       "4                     1                            No        66.4  "
      ]
     },
     "execution_count": 2,
     "metadata": {},
     "output_type": "execute_result"
    }
   ],
   "source": [
    "df = pd.read_csv(\"./datasets/student_performance.csv\")\n",
    "print(type(df))\n",
    "df.head()"
   ]
  },
  {
   "cell_type": "code",
   "execution_count": 3,
   "id": "0af0f1d0",
   "metadata": {},
   "outputs": [
    {
     "data": {
      "text/html": [
       "<div>\n",
       "<style scoped>\n",
       "    .dataframe tbody tr th:only-of-type {\n",
       "        vertical-align: middle;\n",
       "    }\n",
       "\n",
       "    .dataframe tbody tr th {\n",
       "        vertical-align: top;\n",
       "    }\n",
       "\n",
       "    .dataframe thead th {\n",
       "        text-align: right;\n",
       "    }\n",
       "</style>\n",
       "<table border=\"1\" class=\"dataframe\">\n",
       "  <thead>\n",
       "    <tr style=\"text-align: right;\">\n",
       "      <th></th>\n",
       "      <th>student_id</th>\n",
       "      <th>study_hours_per_day</th>\n",
       "      <th>exam_score</th>\n",
       "    </tr>\n",
       "  </thead>\n",
       "  <tbody>\n",
       "    <tr>\n",
       "      <th>0</th>\n",
       "      <td>S1000</td>\n",
       "      <td>0.0</td>\n",
       "      <td>56.2</td>\n",
       "    </tr>\n",
       "    <tr>\n",
       "      <th>1</th>\n",
       "      <td>S1001</td>\n",
       "      <td>6.9</td>\n",
       "      <td>100.0</td>\n",
       "    </tr>\n",
       "    <tr>\n",
       "      <th>2</th>\n",
       "      <td>S1002</td>\n",
       "      <td>1.4</td>\n",
       "      <td>34.3</td>\n",
       "    </tr>\n",
       "    <tr>\n",
       "      <th>3</th>\n",
       "      <td>S1003</td>\n",
       "      <td>1.0</td>\n",
       "      <td>26.8</td>\n",
       "    </tr>\n",
       "    <tr>\n",
       "      <th>4</th>\n",
       "      <td>S1004</td>\n",
       "      <td>5.0</td>\n",
       "      <td>66.4</td>\n",
       "    </tr>\n",
       "  </tbody>\n",
       "</table>\n",
       "</div>"
      ],
      "text/plain": [
       "  student_id  study_hours_per_day  exam_score\n",
       "0      S1000                  0.0        56.2\n",
       "1      S1001                  6.9       100.0\n",
       "2      S1002                  1.4        34.3\n",
       "3      S1003                  1.0        26.8\n",
       "4      S1004                  5.0        66.4"
      ]
     },
     "execution_count": 3,
     "metadata": {},
     "output_type": "execute_result"
    }
   ],
   "source": [
    "df = df[[\"student_id\", \"study_hours_per_day\", \"exam_score\"]]\n",
    "df.head()"
   ]
  },
  {
   "cell_type": "markdown",
   "id": "5311728e",
   "metadata": {},
   "source": [
    "## Step 2: Find total number of students."
   ]
  },
  {
   "cell_type": "code",
   "execution_count": 4,
   "id": "8fdc601a",
   "metadata": {},
   "outputs": [
    {
     "name": "stdout",
     "output_type": "stream",
     "text": [
      "Total number of students: 1000\n"
     ]
    }
   ],
   "source": [
    "print(\"Total number of students:\", totalStudents := df.shape[0])"
   ]
  },
  {
   "cell_type": "markdown",
   "id": "3f9a3394",
   "metadata": {},
   "source": [
    "## Step 3: Students who studied greater than 2 hours"
   ]
  },
  {
   "cell_type": "code",
   "execution_count": 5,
   "id": "f8de44fe",
   "metadata": {},
   "outputs": [
    {
     "name": "stdout",
     "output_type": "stream",
     "text": [
      "<class 'pandas.core.series.Series'>\n",
      "Number of students who studied more than 2 hours: 846\n"
     ]
    }
   ],
   "source": [
    "mask1 = df[\"study_hours_per_day\"] > 2\n",
    "print(type(mask1))\n",
    "studentsStudied = df[mask1]\n",
    "print(\"Number of students who studied more than 2 hours:\", studentsStudied.shape[0])"
   ]
  },
  {
   "cell_type": "markdown",
   "id": "7b93f46b",
   "metadata": {},
   "source": [
    "## Step 4: Students who passed assuming (atleast 35 is required for passing)"
   ]
  },
  {
   "cell_type": "code",
   "execution_count": 6,
   "id": "9d8ef9ce",
   "metadata": {},
   "outputs": [
    {
     "name": "stdout",
     "output_type": "stream",
     "text": [
      "<class 'pandas.core.series.Series'>\n",
      "Number of students who passed: 976\n"
     ]
    }
   ],
   "source": [
    "mask2 = df[\"exam_score\"] >= 35\n",
    "print(type(mask2))\n",
    "studentsPassed = df[mask2]\n",
    "print(\"Number of students who passed:\", studentsPassed.shape[0])"
   ]
  },
  {
   "cell_type": "markdown",
   "id": "563e6b58",
   "metadata": {},
   "source": [
    "## Step 5: Percentage of students who studied more than 2 hours got passed"
   ]
  },
  {
   "cell_type": "code",
   "execution_count": 7,
   "id": "501037d2",
   "metadata": {},
   "outputs": [
    {
     "name": "stdout",
     "output_type": "stream",
     "text": [
      "Number of students who studied ans passed: 84.5 %\n"
     ]
    }
   ],
   "source": [
    "studentsStudiedAndPassed = df[mask1 & mask2]\n",
    "print(\"Number of students who studied ans passed:\", (studentsStudiedAndPassed.shape[0] / totalStudents) * 100, \"%\")"
   ]
  },
  {
   "cell_type": "markdown",
   "id": "e35b9b98",
   "metadata": {},
   "source": [
    "## Step 6: Use Bayes Theorem: P(student studied more than 2 hours | passed)\n",
    "\n",
    "Baye's Theorem: If $E_1, E_2, ..., E_n$ are $n$ non-empty events which constitutes a partition of sample space $S$, i.e. $E_1, E_2, ..., E_n$ are pairwise disjoint and $E_1 \\cup E_2 \\cup ... \\cup E_n = S$ and $A$ is any event of non-zero probability, then \n",
    "\n",
    "$$\n",
    "P(E_i \\mid A) = \\frac{P(A \\mid E_i) \\cdot P(E_i)}{\\sum_{j=1}^{n} P(A \\mid E_j) \\cdot P(E_j)}\n",
    "$$\n",
    "\n",
    "<p align=\"center\"><img src=\"./media/bayes-theorem.png\" align=\"center\" width=\"300\" height=\"auto\" alt=\"Bayes Theorem Figure\" /></p>\n",
    "\n",
    "<p color=\"red\"><strong>NOTE:</strong> Applying bayes theorem for single partition is dumbness. We can use conditional probability </p> "
   ]
  },
  {
   "cell_type": "code",
   "execution_count": null,
   "id": "5843dfea",
   "metadata": {},
   "outputs": [
    {
     "name": "stdout",
     "output_type": "stream",
     "text": [
      "Required probability: 0.9988179669030733\n"
     ]
    }
   ],
   "source": [
    "pStudentPassed = df[df[\"exam_score\"] > 35].shape[0] / totalStudents # A\n",
    "pStudentStudied = df[df[\"study_hours_per_day\"] > 2].shape[0] / totalStudents # E1\n",
    "pStudentPassedStudied = (df[(df[\"exam_score\"] > 35) & (df[\"study_hours_per_day\"] > 2)].shape[0] / totalStudents) / pStudentStudied # A | E1\n",
    "requiredProbability = (pStudentPassed * pStudentPassedStudied) / pStudentPassed # E1 | A\n",
    "print(\"Required probability:\", requiredProbability)"
   ]
  }
 ],
 "metadata": {
  "kernelspec": {
   "display_name": "env",
   "language": "python",
   "name": "python3"
  },
  "language_info": {
   "codemirror_mode": {
    "name": "ipython",
    "version": 3
   },
   "file_extension": ".py",
   "mimetype": "text/x-python",
   "name": "python",
   "nbconvert_exporter": "python",
   "pygments_lexer": "ipython3",
   "version": "3.13.3"
  }
 },
 "nbformat": 4,
 "nbformat_minor": 5
}
